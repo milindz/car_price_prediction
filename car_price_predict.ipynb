{
 "cells": [
  {
   "cell_type": "code",
   "execution_count": 1,
   "metadata": {},
   "outputs": [],
   "source": [
    "import pandas as pd\n",
    "import numpy as np\n",
    "import matplotlib.pyplot as plt\n",
    "import missingno as msno\n",
    "import seaborn as sns\n",
    "import warnings\n",
    "warnings.filterwarnings('ignore')\n",
    "sns.set_style('whitegrid')\n"
   ]
  },
  {
   "cell_type": "code",
   "execution_count": 2,
   "metadata": {},
   "outputs": [],
   "source": [
    "data = pd.read_csv(\"car data.csv\")\n"
   ]
  },
  {
   "cell_type": "code",
   "execution_count": 3,
   "metadata": {},
   "outputs": [
    {
     "data": {
      "text/html": [
       "<div>\n",
       "<style scoped>\n",
       "    .dataframe tbody tr th:only-of-type {\n",
       "        vertical-align: middle;\n",
       "    }\n",
       "\n",
       "    .dataframe tbody tr th {\n",
       "        vertical-align: top;\n",
       "    }\n",
       "\n",
       "    .dataframe thead th {\n",
       "        text-align: right;\n",
       "    }\n",
       "</style>\n",
       "<table border=\"1\" class=\"dataframe\">\n",
       "  <thead>\n",
       "    <tr style=\"text-align: right;\">\n",
       "      <th></th>\n",
       "      <th>Car_Name</th>\n",
       "      <th>Year</th>\n",
       "      <th>Selling_Price</th>\n",
       "      <th>Present_Price</th>\n",
       "      <th>Kms_Driven</th>\n",
       "      <th>Fuel_Type</th>\n",
       "      <th>Seller_Type</th>\n",
       "      <th>Transmission</th>\n",
       "      <th>Owner</th>\n",
       "    </tr>\n",
       "  </thead>\n",
       "  <tbody>\n",
       "    <tr>\n",
       "      <th>0</th>\n",
       "      <td>ritz</td>\n",
       "      <td>2014</td>\n",
       "      <td>3.35</td>\n",
       "      <td>5.59</td>\n",
       "      <td>27000</td>\n",
       "      <td>Petrol</td>\n",
       "      <td>Dealer</td>\n",
       "      <td>Manual</td>\n",
       "      <td>0</td>\n",
       "    </tr>\n",
       "    <tr>\n",
       "      <th>1</th>\n",
       "      <td>sx4</td>\n",
       "      <td>2013</td>\n",
       "      <td>4.75</td>\n",
       "      <td>9.54</td>\n",
       "      <td>43000</td>\n",
       "      <td>Diesel</td>\n",
       "      <td>Dealer</td>\n",
       "      <td>Manual</td>\n",
       "      <td>0</td>\n",
       "    </tr>\n",
       "    <tr>\n",
       "      <th>2</th>\n",
       "      <td>ciaz</td>\n",
       "      <td>2017</td>\n",
       "      <td>7.25</td>\n",
       "      <td>9.85</td>\n",
       "      <td>6900</td>\n",
       "      <td>Petrol</td>\n",
       "      <td>Dealer</td>\n",
       "      <td>Manual</td>\n",
       "      <td>0</td>\n",
       "    </tr>\n",
       "    <tr>\n",
       "      <th>3</th>\n",
       "      <td>wagon r</td>\n",
       "      <td>2011</td>\n",
       "      <td>2.85</td>\n",
       "      <td>4.15</td>\n",
       "      <td>5200</td>\n",
       "      <td>Petrol</td>\n",
       "      <td>Dealer</td>\n",
       "      <td>Manual</td>\n",
       "      <td>0</td>\n",
       "    </tr>\n",
       "    <tr>\n",
       "      <th>4</th>\n",
       "      <td>swift</td>\n",
       "      <td>2014</td>\n",
       "      <td>4.60</td>\n",
       "      <td>6.87</td>\n",
       "      <td>42450</td>\n",
       "      <td>Diesel</td>\n",
       "      <td>Dealer</td>\n",
       "      <td>Manual</td>\n",
       "      <td>0</td>\n",
       "    </tr>\n",
       "  </tbody>\n",
       "</table>\n",
       "</div>"
      ],
      "text/plain": [
       "  Car_Name  Year  Selling_Price  Present_Price  Kms_Driven Fuel_Type  \\\n",
       "0     ritz  2014           3.35           5.59       27000    Petrol   \n",
       "1      sx4  2013           4.75           9.54       43000    Diesel   \n",
       "2     ciaz  2017           7.25           9.85        6900    Petrol   \n",
       "3  wagon r  2011           2.85           4.15        5200    Petrol   \n",
       "4    swift  2014           4.60           6.87       42450    Diesel   \n",
       "\n",
       "  Seller_Type Transmission  Owner  \n",
       "0      Dealer       Manual      0  \n",
       "1      Dealer       Manual      0  \n",
       "2      Dealer       Manual      0  \n",
       "3      Dealer       Manual      0  \n",
       "4      Dealer       Manual      0  "
      ]
     },
     "execution_count": 3,
     "metadata": {},
     "output_type": "execute_result"
    }
   ],
   "source": [
    "data.head()"
   ]
  },
  {
   "cell_type": "code",
   "execution_count": 4,
   "metadata": {},
   "outputs": [
    {
     "data": {
      "text/plain": [
       "Car_Name          object\n",
       "Year               int64\n",
       "Selling_Price    float64\n",
       "Present_Price    float64\n",
       "Kms_Driven         int64\n",
       "Fuel_Type         object\n",
       "Seller_Type       object\n",
       "Transmission      object\n",
       "Owner              int64\n",
       "dtype: object"
      ]
     },
     "execution_count": 4,
     "metadata": {},
     "output_type": "execute_result"
    }
   ],
   "source": [
    "data.dtypes"
   ]
  },
  {
   "cell_type": "code",
   "execution_count": 5,
   "metadata": {},
   "outputs": [
    {
     "data": {
      "text/html": [
       "<div>\n",
       "<style scoped>\n",
       "    .dataframe tbody tr th:only-of-type {\n",
       "        vertical-align: middle;\n",
       "    }\n",
       "\n",
       "    .dataframe tbody tr th {\n",
       "        vertical-align: top;\n",
       "    }\n",
       "\n",
       "    .dataframe thead th {\n",
       "        text-align: right;\n",
       "    }\n",
       "</style>\n",
       "<table border=\"1\" class=\"dataframe\">\n",
       "  <thead>\n",
       "    <tr style=\"text-align: right;\">\n",
       "      <th></th>\n",
       "      <th>Year</th>\n",
       "      <th>Selling_Price</th>\n",
       "      <th>Present_Price</th>\n",
       "      <th>Kms_Driven</th>\n",
       "      <th>Owner</th>\n",
       "    </tr>\n",
       "  </thead>\n",
       "  <tbody>\n",
       "    <tr>\n",
       "      <th>count</th>\n",
       "      <td>301.000000</td>\n",
       "      <td>301.000000</td>\n",
       "      <td>301.000000</td>\n",
       "      <td>301.000000</td>\n",
       "      <td>301.000000</td>\n",
       "    </tr>\n",
       "    <tr>\n",
       "      <th>mean</th>\n",
       "      <td>2013.627907</td>\n",
       "      <td>4.661296</td>\n",
       "      <td>7.628472</td>\n",
       "      <td>36947.205980</td>\n",
       "      <td>0.043189</td>\n",
       "    </tr>\n",
       "    <tr>\n",
       "      <th>std</th>\n",
       "      <td>2.891554</td>\n",
       "      <td>5.082812</td>\n",
       "      <td>8.644115</td>\n",
       "      <td>38886.883882</td>\n",
       "      <td>0.247915</td>\n",
       "    </tr>\n",
       "    <tr>\n",
       "      <th>min</th>\n",
       "      <td>2003.000000</td>\n",
       "      <td>0.100000</td>\n",
       "      <td>0.320000</td>\n",
       "      <td>500.000000</td>\n",
       "      <td>0.000000</td>\n",
       "    </tr>\n",
       "    <tr>\n",
       "      <th>25%</th>\n",
       "      <td>2012.000000</td>\n",
       "      <td>0.900000</td>\n",
       "      <td>1.200000</td>\n",
       "      <td>15000.000000</td>\n",
       "      <td>0.000000</td>\n",
       "    </tr>\n",
       "    <tr>\n",
       "      <th>50%</th>\n",
       "      <td>2014.000000</td>\n",
       "      <td>3.600000</td>\n",
       "      <td>6.400000</td>\n",
       "      <td>32000.000000</td>\n",
       "      <td>0.000000</td>\n",
       "    </tr>\n",
       "    <tr>\n",
       "      <th>75%</th>\n",
       "      <td>2016.000000</td>\n",
       "      <td>6.000000</td>\n",
       "      <td>9.900000</td>\n",
       "      <td>48767.000000</td>\n",
       "      <td>0.000000</td>\n",
       "    </tr>\n",
       "    <tr>\n",
       "      <th>max</th>\n",
       "      <td>2018.000000</td>\n",
       "      <td>35.000000</td>\n",
       "      <td>92.600000</td>\n",
       "      <td>500000.000000</td>\n",
       "      <td>3.000000</td>\n",
       "    </tr>\n",
       "  </tbody>\n",
       "</table>\n",
       "</div>"
      ],
      "text/plain": [
       "              Year  Selling_Price  Present_Price     Kms_Driven       Owner\n",
       "count   301.000000     301.000000     301.000000     301.000000  301.000000\n",
       "mean   2013.627907       4.661296       7.628472   36947.205980    0.043189\n",
       "std       2.891554       5.082812       8.644115   38886.883882    0.247915\n",
       "min    2003.000000       0.100000       0.320000     500.000000    0.000000\n",
       "25%    2012.000000       0.900000       1.200000   15000.000000    0.000000\n",
       "50%    2014.000000       3.600000       6.400000   32000.000000    0.000000\n",
       "75%    2016.000000       6.000000       9.900000   48767.000000    0.000000\n",
       "max    2018.000000      35.000000      92.600000  500000.000000    3.000000"
      ]
     },
     "execution_count": 5,
     "metadata": {},
     "output_type": "execute_result"
    }
   ],
   "source": [
    "data.describe()"
   ]
  },
  {
   "cell_type": "code",
   "execution_count": 6,
   "metadata": {},
   "outputs": [
    {
     "data": {
      "text/html": [
       "<div>\n",
       "<style scoped>\n",
       "    .dataframe tbody tr th:only-of-type {\n",
       "        vertical-align: middle;\n",
       "    }\n",
       "\n",
       "    .dataframe tbody tr th {\n",
       "        vertical-align: top;\n",
       "    }\n",
       "\n",
       "    .dataframe thead th {\n",
       "        text-align: right;\n",
       "    }\n",
       "</style>\n",
       "<table border=\"1\" class=\"dataframe\">\n",
       "  <thead>\n",
       "    <tr style=\"text-align: right;\">\n",
       "      <th></th>\n",
       "      <th>Car_Name</th>\n",
       "      <th>Fuel_Type</th>\n",
       "      <th>Seller_Type</th>\n",
       "      <th>Transmission</th>\n",
       "    </tr>\n",
       "  </thead>\n",
       "  <tbody>\n",
       "    <tr>\n",
       "      <th>count</th>\n",
       "      <td>301</td>\n",
       "      <td>301</td>\n",
       "      <td>301</td>\n",
       "      <td>301</td>\n",
       "    </tr>\n",
       "    <tr>\n",
       "      <th>unique</th>\n",
       "      <td>98</td>\n",
       "      <td>3</td>\n",
       "      <td>2</td>\n",
       "      <td>2</td>\n",
       "    </tr>\n",
       "    <tr>\n",
       "      <th>top</th>\n",
       "      <td>city</td>\n",
       "      <td>Petrol</td>\n",
       "      <td>Dealer</td>\n",
       "      <td>Manual</td>\n",
       "    </tr>\n",
       "    <tr>\n",
       "      <th>freq</th>\n",
       "      <td>26</td>\n",
       "      <td>239</td>\n",
       "      <td>195</td>\n",
       "      <td>261</td>\n",
       "    </tr>\n",
       "  </tbody>\n",
       "</table>\n",
       "</div>"
      ],
      "text/plain": [
       "       Car_Name Fuel_Type Seller_Type Transmission\n",
       "count       301       301         301          301\n",
       "unique       98         3           2            2\n",
       "top        city    Petrol      Dealer       Manual\n",
       "freq         26       239         195          261"
      ]
     },
     "execution_count": 6,
     "metadata": {},
     "output_type": "execute_result"
    }
   ],
   "source": [
    "data[data.dtypes[data.dtypes=='object'].index].describe()"
   ]
  },
  {
   "cell_type": "markdown",
   "metadata": {},
   "source": [
    "#### EDA\n"
   ]
  },
  {
   "cell_type": "code",
   "execution_count": 7,
   "metadata": {},
   "outputs": [
    {
     "name": "stdout",
     "output_type": "stream",
     "text": [
      "No missing values\n"
     ]
    }
   ],
   "source": [
    "if len(data[data.isnull().any(axis=1)]) !=0:\n",
    "    print(\"No. of missing values:{}\").format(len(data[data.isnull().any(axis=1)]))\n",
    "    msno.matrix(data)\n",
    "else:\n",
    "    print(\"No missing values\")"
   ]
  },
  {
   "cell_type": "code",
   "execution_count": 8,
   "metadata": {},
   "outputs": [
    {
     "name": "stdout",
     "output_type": "stream",
     "text": [
      "No. of duplicate values:2\n",
      "    Car_Name  Year  Selling_Price  Present_Price  Kms_Driven Fuel_Type  \\\n",
      "15    ertiga  2016           7.75          10.79       43000    Diesel   \n",
      "17    ertiga  2016           7.75          10.79       43000    Diesel   \n",
      "51  fortuner  2015          23.00          30.61       40000    Diesel   \n",
      "93  fortuner  2015          23.00          30.61       40000    Diesel   \n",
      "\n",
      "   Seller_Type Transmission  Owner  \n",
      "15      Dealer       Manual      0  \n",
      "17      Dealer       Manual      0  \n",
      "51      Dealer    Automatic      0  \n",
      "93      Dealer    Automatic      0  \n"
     ]
    }
   ],
   "source": [
    "if len(data[data.duplicated()]) > 0:\n",
    "    print(\"No. of duplicate values:{}\").format(len(data[data.duplicated()]))\n",
    "    print(data[data.duplicated(keep = False )].sort_values(by = list(data.columns)).head())\n",
    "    \n",
    "else:\n",
    "    print(\"No duplicate values\")"
   ]
  },
  {
   "cell_type": "code",
   "execution_count": 9,
   "metadata": {},
   "outputs": [
    {
     "data": {
      "text/plain": [
       "(301, 9)"
      ]
     },
     "execution_count": 9,
     "metadata": {},
     "output_type": "execute_result"
    }
   ],
   "source": [
    "data.shape"
   ]
  },
  {
   "cell_type": "code",
   "execution_count": 10,
   "metadata": {},
   "outputs": [
    {
     "data": {
      "text/plain": [
       "<matplotlib.axes._subplots.AxesSubplot at 0x185b1a48>"
      ]
     },
     "execution_count": 10,
     "metadata": {},
     "output_type": "execute_result"
    },
    {
     "data": {
      "image/png": "[encoded data removed]",
      "text/plain": [
       "<Figure size 1440x1440 with 2 Axes>"
      ]
     },
     "metadata": {
      "needs_background": "light"
     },
     "output_type": "display_data"
    }
   ],
   "source": [
    "#correlation matrix\n",
    "\n",
    "corr_mat = data.corr()\n",
    "top_features = corr_mat.index\n",
    "plt.figure(figsize=(20,20))\n",
    "sns.heatmap(data[top_features].corr(), annot = True , cmap= 'RdYlGn')\n"
   ]
  },
  {
   "cell_type": "code",
   "execution_count": null,
   "metadata": {},
   "outputs": [],
   "source": []
  },
  {
   "cell_type": "code",
   "execution_count": 11,
   "metadata": {},
   "outputs": [
    {
     "name": "stdout",
     "output_type": "stream",
     "text": [
      "Petrol    239\n",
      "Diesel     60\n",
      "CNG         2\n",
      "Name: Fuel_Type, dtype: int64\n"
     ]
    }
   ],
   "source": [
    "print(pd.value_counts(data['Fuel_Type'], sort= True))"
   ]
  },
  {
   "cell_type": "code",
   "execution_count": 12,
   "metadata": {},
   "outputs": [
    {
     "name": "stdout",
     "output_type": "stream",
     "text": [
      "Dealer        195\n",
      "Individual    106\n",
      "Name: Seller_Type, dtype: int64\n"
     ]
    }
   ],
   "source": [
    "print(pd.value_counts(data['Seller_Type'], sort= True))"
   ]
  },
  {
   "cell_type": "code",
   "execution_count": 16,
   "metadata": {},
   "outputs": [
    {
     "name": "stdout",
     "output_type": "stream",
     "text": [
      "Manual       261\n",
      "Automatic     40\n",
      "Name: Transmission, dtype: int64\n"
     ]
    }
   ],
   "source": [
    "print(pd.value_counts(data['Transmission'], sort= True))"
   ]
  },
  {
   "cell_type": "code",
   "execution_count": 15,
   "metadata": {},
   "outputs": [
    {
     "name": "stdout",
     "output_type": "stream",
     "text": [
      "0    290\n",
      "1     10\n",
      "3      1\n",
      "Name: Owner, dtype: int64\n"
     ]
    }
   ],
   "source": [
    "print(pd.value_counts(data['Owner'], sort= True))\n"
   ]
  },
  {
   "cell_type": "code",
   "execution_count": 14,
   "metadata": {},
   "outputs": [
    {
     "data": {
      "text/plain": [
       "Car_Name          object\n",
       "Year               int64\n",
       "Selling_Price    float64\n",
       "Present_Price    float64\n",
       "Kms_Driven         int64\n",
       "Fuel_Type         object\n",
       "Seller_Type       object\n",
       "Transmission      object\n",
       "Owner              int64\n",
       "dtype: object"
      ]
     },
     "execution_count": 14,
     "metadata": {},
     "output_type": "execute_result"
    }
   ],
   "source": [
    "data.dtypes"
   ]
  },
  {
   "cell_type": "code",
   "execution_count": null,
   "metadata": {},
   "outputs": [],
   "source": [
    "#creating a new column inferring the age of car (Present year - Purchased year)"
   ]
  },
  {
   "cell_type": "code",
   "execution_count": 17,
   "metadata": {},
   "outputs": [],
   "source": [
    "final_df=data[['Year','Selling_Price','Present_Price','Kms_Driven','Fuel_Type','Seller_Type','Transmission','Owner']]"
   ]
  },
  {
   "cell_type": "code",
   "execution_count": 18,
   "metadata": {},
   "outputs": [],
   "source": [
    "final_df['Current_year'] = 2020"
   ]
  },
  {
   "cell_type": "code",
   "execution_count": 19,
   "metadata": {},
   "outputs": [
    {
     "data": {
      "text/html": [
       "<div>\n",
       "<style scoped>\n",
       "    .dataframe tbody tr th:only-of-type {\n",
       "        vertical-align: middle;\n",
       "    }\n",
       "\n",
       "    .dataframe tbody tr th {\n",
       "        vertical-align: top;\n",
       "    }\n",
       "\n",
       "    .dataframe thead th {\n",
       "        text-align: right;\n",
       "    }\n",
       "</style>\n",
       "<table border=\"1\" class=\"dataframe\">\n",
       "  <thead>\n",
       "    <tr style=\"text-align: right;\">\n",
       "      <th></th>\n",
       "      <th>Year</th>\n",
       "      <th>Selling_Price</th>\n",
       "      <th>Present_Price</th>\n",
       "      <th>Kms_Driven</th>\n",
       "      <th>Fuel_Type</th>\n",
       "      <th>Seller_Type</th>\n",
       "      <th>Transmission</th>\n",
       "      <th>Owner</th>\n",
       "      <th>Current_year</th>\n",
       "    </tr>\n",
       "  </thead>\n",
       "  <tbody>\n",
       "    <tr>\n",
       "      <th>0</th>\n",
       "      <td>2014</td>\n",
       "      <td>3.35</td>\n",
       "      <td>5.59</td>\n",
       "      <td>27000</td>\n",
       "      <td>Petrol</td>\n",
       "      <td>Dealer</td>\n",
       "      <td>Manual</td>\n",
       "      <td>0</td>\n",
       "      <td>2020</td>\n",
       "    </tr>\n",
       "    <tr>\n",
       "      <th>1</th>\n",
       "      <td>2013</td>\n",
       "      <td>4.75</td>\n",
       "      <td>9.54</td>\n",
       "      <td>43000</td>\n",
       "      <td>Diesel</td>\n",
       "      <td>Dealer</td>\n",
       "      <td>Manual</td>\n",
       "      <td>0</td>\n",
       "      <td>2020</td>\n",
       "    </tr>\n",
       "    <tr>\n",
       "      <th>2</th>\n",
       "      <td>2017</td>\n",
       "      <td>7.25</td>\n",
       "      <td>9.85</td>\n",
       "      <td>6900</td>\n",
       "      <td>Petrol</td>\n",
       "      <td>Dealer</td>\n",
       "      <td>Manual</td>\n",
       "      <td>0</td>\n",
       "      <td>2020</td>\n",
       "    </tr>\n",
       "    <tr>\n",
       "      <th>3</th>\n",
       "      <td>2011</td>\n",
       "      <td>2.85</td>\n",
       "      <td>4.15</td>\n",
       "      <td>5200</td>\n",
       "      <td>Petrol</td>\n",
       "      <td>Dealer</td>\n",
       "      <td>Manual</td>\n",
       "      <td>0</td>\n",
       "      <td>2020</td>\n",
       "    </tr>\n",
       "    <tr>\n",
       "      <th>4</th>\n",
       "      <td>2014</td>\n",
       "      <td>4.60</td>\n",
       "      <td>6.87</td>\n",
       "      <td>42450</td>\n",
       "      <td>Diesel</td>\n",
       "      <td>Dealer</td>\n",
       "      <td>Manual</td>\n",
       "      <td>0</td>\n",
       "      <td>2020</td>\n",
       "    </tr>\n",
       "  </tbody>\n",
       "</table>\n",
       "</div>"
      ],
      "text/plain": [
       "   Year  Selling_Price  Present_Price  Kms_Driven Fuel_Type Seller_Type  \\\n",
       "0  2014           3.35           5.59       27000    Petrol      Dealer   \n",
       "1  2013           4.75           9.54       43000    Diesel      Dealer   \n",
       "2  2017           7.25           9.85        6900    Petrol      Dealer   \n",
       "3  2011           2.85           4.15        5200    Petrol      Dealer   \n",
       "4  2014           4.60           6.87       42450    Diesel      Dealer   \n",
       "\n",
       "  Transmission  Owner  Current_year  \n",
       "0       Manual      0          2020  \n",
       "1       Manual      0          2020  \n",
       "2       Manual      0          2020  \n",
       "3       Manual      0          2020  \n",
       "4       Manual      0          2020  "
      ]
     },
     "execution_count": 19,
     "metadata": {},
     "output_type": "execute_result"
    }
   ],
   "source": [
    "final_df.head()"
   ]
  },
  {
   "cell_type": "code",
   "execution_count": null,
   "metadata": {},
   "outputs": [],
   "source": []
  },
  {
   "cell_type": "code",
   "execution_count": 20,
   "metadata": {},
   "outputs": [],
   "source": [
    "final_df['no_of_years']=final_df['Current_year']- final_df['Year']"
   ]
  },
  {
   "cell_type": "code",
   "execution_count": 21,
   "metadata": {},
   "outputs": [],
   "source": [
    "final_df.drop(columns=['Year','Current_year'],axis = 1,inplace=True)"
   ]
  },
  {
   "cell_type": "code",
   "execution_count": 22,
   "metadata": {},
   "outputs": [
    {
     "data": {
      "text/html": [
       "<div>\n",
       "<style scoped>\n",
       "    .dataframe tbody tr th:only-of-type {\n",
       "        vertical-align: middle;\n",
       "    }\n",
       "\n",
       "    .dataframe tbody tr th {\n",
       "        vertical-align: top;\n",
       "    }\n",
       "\n",
       "    .dataframe thead th {\n",
       "        text-align: right;\n",
       "    }\n",
       "</style>\n",
       "<table border=\"1\" class=\"dataframe\">\n",
       "  <thead>\n",
       "    <tr style=\"text-align: right;\">\n",
       "      <th></th>\n",
       "      <th>Selling_Price</th>\n",
       "      <th>Present_Price</th>\n",
       "      <th>Kms_Driven</th>\n",
       "      <th>Fuel_Type</th>\n",
       "      <th>Seller_Type</th>\n",
       "      <th>Transmission</th>\n",
       "      <th>Owner</th>\n",
       "      <th>no_of_years</th>\n",
       "    </tr>\n",
       "  </thead>\n",
       "  <tbody>\n",
       "    <tr>\n",
       "      <th>0</th>\n",
       "      <td>3.35</td>\n",
       "      <td>5.59</td>\n",
       "      <td>27000</td>\n",
       "      <td>Petrol</td>\n",
       "      <td>Dealer</td>\n",
       "      <td>Manual</td>\n",
       "      <td>0</td>\n",
       "      <td>6</td>\n",
       "    </tr>\n",
       "    <tr>\n",
       "      <th>1</th>\n",
       "      <td>4.75</td>\n",
       "      <td>9.54</td>\n",
       "      <td>43000</td>\n",
       "      <td>Diesel</td>\n",
       "      <td>Dealer</td>\n",
       "      <td>Manual</td>\n",
       "      <td>0</td>\n",
       "      <td>7</td>\n",
       "    </tr>\n",
       "    <tr>\n",
       "      <th>2</th>\n",
       "      <td>7.25</td>\n",
       "      <td>9.85</td>\n",
       "      <td>6900</td>\n",
       "      <td>Petrol</td>\n",
       "      <td>Dealer</td>\n",
       "      <td>Manual</td>\n",
       "      <td>0</td>\n",
       "      <td>3</td>\n",
       "    </tr>\n",
       "    <tr>\n",
       "      <th>3</th>\n",
       "      <td>2.85</td>\n",
       "      <td>4.15</td>\n",
       "      <td>5200</td>\n",
       "      <td>Petrol</td>\n",
       "      <td>Dealer</td>\n",
       "      <td>Manual</td>\n",
       "      <td>0</td>\n",
       "      <td>9</td>\n",
       "    </tr>\n",
       "    <tr>\n",
       "      <th>4</th>\n",
       "      <td>4.60</td>\n",
       "      <td>6.87</td>\n",
       "      <td>42450</td>\n",
       "      <td>Diesel</td>\n",
       "      <td>Dealer</td>\n",
       "      <td>Manual</td>\n",
       "      <td>0</td>\n",
       "      <td>6</td>\n",
       "    </tr>\n",
       "  </tbody>\n",
       "</table>\n",
       "</div>"
      ],
      "text/plain": [
       "   Selling_Price  Present_Price  Kms_Driven Fuel_Type Seller_Type  \\\n",
       "0           3.35           5.59       27000    Petrol      Dealer   \n",
       "1           4.75           9.54       43000    Diesel      Dealer   \n",
       "2           7.25           9.85        6900    Petrol      Dealer   \n",
       "3           2.85           4.15        5200    Petrol      Dealer   \n",
       "4           4.60           6.87       42450    Diesel      Dealer   \n",
       "\n",
       "  Transmission  Owner  no_of_years  \n",
       "0       Manual      0            6  \n",
       "1       Manual      0            7  \n",
       "2       Manual      0            3  \n",
       "3       Manual      0            9  \n",
       "4       Manual      0            6  "
      ]
     },
     "execution_count": 22,
     "metadata": {},
     "output_type": "execute_result"
    }
   ],
   "source": [
    "final_df.head()"
   ]
  },
  {
   "cell_type": "code",
   "execution_count": 23,
   "metadata": {},
   "outputs": [],
   "source": [
    "final_df = pd.get_dummies(final_df,drop_first= True)"
   ]
  },
  {
   "cell_type": "code",
   "execution_count": 24,
   "metadata": {},
   "outputs": [
    {
     "data": {
      "text/html": [
       "<div>\n",
       "<style scoped>\n",
       "    .dataframe tbody tr th:only-of-type {\n",
       "        vertical-align: middle;\n",
       "    }\n",
       "\n",
       "    .dataframe tbody tr th {\n",
       "        vertical-align: top;\n",
       "    }\n",
       "\n",
       "    .dataframe thead th {\n",
       "        text-align: right;\n",
       "    }\n",
       "</style>\n",
       "<table border=\"1\" class=\"dataframe\">\n",
       "  <thead>\n",
       "    <tr style=\"text-align: right;\">\n",
       "      <th></th>\n",
       "      <th>Selling_Price</th>\n",
       "      <th>Present_Price</th>\n",
       "      <th>Kms_Driven</th>\n",
       "      <th>Owner</th>\n",
       "      <th>no_of_years</th>\n",
       "      <th>Fuel_Type_Diesel</th>\n",
       "      <th>Fuel_Type_Petrol</th>\n",
       "      <th>Seller_Type_Individual</th>\n",
       "      <th>Transmission_Manual</th>\n",
       "    </tr>\n",
       "  </thead>\n",
       "  <tbody>\n",
       "    <tr>\n",
       "      <th>0</th>\n",
       "      <td>3.35</td>\n",
       "      <td>5.59</td>\n",
       "      <td>27000</td>\n",
       "      <td>0</td>\n",
       "      <td>6</td>\n",
       "      <td>0</td>\n",
       "      <td>1</td>\n",
       "      <td>0</td>\n",
       "      <td>1</td>\n",
       "    </tr>\n",
       "    <tr>\n",
       "      <th>1</th>\n",
       "      <td>4.75</td>\n",
       "      <td>9.54</td>\n",
       "      <td>43000</td>\n",
       "      <td>0</td>\n",
       "      <td>7</td>\n",
       "      <td>1</td>\n",
       "      <td>0</td>\n",
       "      <td>0</td>\n",
       "      <td>1</td>\n",
       "    </tr>\n",
       "    <tr>\n",
       "      <th>2</th>\n",
       "      <td>7.25</td>\n",
       "      <td>9.85</td>\n",
       "      <td>6900</td>\n",
       "      <td>0</td>\n",
       "      <td>3</td>\n",
       "      <td>0</td>\n",
       "      <td>1</td>\n",
       "      <td>0</td>\n",
       "      <td>1</td>\n",
       "    </tr>\n",
       "    <tr>\n",
       "      <th>3</th>\n",
       "      <td>2.85</td>\n",
       "      <td>4.15</td>\n",
       "      <td>5200</td>\n",
       "      <td>0</td>\n",
       "      <td>9</td>\n",
       "      <td>0</td>\n",
       "      <td>1</td>\n",
       "      <td>0</td>\n",
       "      <td>1</td>\n",
       "    </tr>\n",
       "    <tr>\n",
       "      <th>4</th>\n",
       "      <td>4.60</td>\n",
       "      <td>6.87</td>\n",
       "      <td>42450</td>\n",
       "      <td>0</td>\n",
       "      <td>6</td>\n",
       "      <td>1</td>\n",
       "      <td>0</td>\n",
       "      <td>0</td>\n",
       "      <td>1</td>\n",
       "    </tr>\n",
       "    <tr>\n",
       "      <th>5</th>\n",
       "      <td>9.25</td>\n",
       "      <td>9.83</td>\n",
       "      <td>2071</td>\n",
       "      <td>0</td>\n",
       "      <td>2</td>\n",
       "      <td>1</td>\n",
       "      <td>0</td>\n",
       "      <td>0</td>\n",
       "      <td>1</td>\n",
       "    </tr>\n",
       "    <tr>\n",
       "      <th>6</th>\n",
       "      <td>6.75</td>\n",
       "      <td>8.12</td>\n",
       "      <td>18796</td>\n",
       "      <td>0</td>\n",
       "      <td>5</td>\n",
       "      <td>0</td>\n",
       "      <td>1</td>\n",
       "      <td>0</td>\n",
       "      <td>1</td>\n",
       "    </tr>\n",
       "    <tr>\n",
       "      <th>7</th>\n",
       "      <td>6.50</td>\n",
       "      <td>8.61</td>\n",
       "      <td>33429</td>\n",
       "      <td>0</td>\n",
       "      <td>5</td>\n",
       "      <td>1</td>\n",
       "      <td>0</td>\n",
       "      <td>0</td>\n",
       "      <td>1</td>\n",
       "    </tr>\n",
       "    <tr>\n",
       "      <th>8</th>\n",
       "      <td>8.75</td>\n",
       "      <td>8.89</td>\n",
       "      <td>20273</td>\n",
       "      <td>0</td>\n",
       "      <td>4</td>\n",
       "      <td>1</td>\n",
       "      <td>0</td>\n",
       "      <td>0</td>\n",
       "      <td>1</td>\n",
       "    </tr>\n",
       "    <tr>\n",
       "      <th>9</th>\n",
       "      <td>7.45</td>\n",
       "      <td>8.92</td>\n",
       "      <td>42367</td>\n",
       "      <td>0</td>\n",
       "      <td>5</td>\n",
       "      <td>1</td>\n",
       "      <td>0</td>\n",
       "      <td>0</td>\n",
       "      <td>1</td>\n",
       "    </tr>\n",
       "    <tr>\n",
       "      <th>10</th>\n",
       "      <td>2.85</td>\n",
       "      <td>3.60</td>\n",
       "      <td>2135</td>\n",
       "      <td>0</td>\n",
       "      <td>3</td>\n",
       "      <td>0</td>\n",
       "      <td>1</td>\n",
       "      <td>0</td>\n",
       "      <td>1</td>\n",
       "    </tr>\n",
       "    <tr>\n",
       "      <th>11</th>\n",
       "      <td>6.85</td>\n",
       "      <td>10.38</td>\n",
       "      <td>51000</td>\n",
       "      <td>0</td>\n",
       "      <td>5</td>\n",
       "      <td>1</td>\n",
       "      <td>0</td>\n",
       "      <td>0</td>\n",
       "      <td>1</td>\n",
       "    </tr>\n",
       "    <tr>\n",
       "      <th>12</th>\n",
       "      <td>7.50</td>\n",
       "      <td>9.94</td>\n",
       "      <td>15000</td>\n",
       "      <td>0</td>\n",
       "      <td>5</td>\n",
       "      <td>0</td>\n",
       "      <td>1</td>\n",
       "      <td>0</td>\n",
       "      <td>0</td>\n",
       "    </tr>\n",
       "    <tr>\n",
       "      <th>13</th>\n",
       "      <td>6.10</td>\n",
       "      <td>7.71</td>\n",
       "      <td>26000</td>\n",
       "      <td>0</td>\n",
       "      <td>5</td>\n",
       "      <td>0</td>\n",
       "      <td>1</td>\n",
       "      <td>0</td>\n",
       "      <td>1</td>\n",
       "    </tr>\n",
       "    <tr>\n",
       "      <th>14</th>\n",
       "      <td>2.25</td>\n",
       "      <td>7.21</td>\n",
       "      <td>77427</td>\n",
       "      <td>0</td>\n",
       "      <td>11</td>\n",
       "      <td>0</td>\n",
       "      <td>1</td>\n",
       "      <td>0</td>\n",
       "      <td>1</td>\n",
       "    </tr>\n",
       "    <tr>\n",
       "      <th>15</th>\n",
       "      <td>7.75</td>\n",
       "      <td>10.79</td>\n",
       "      <td>43000</td>\n",
       "      <td>0</td>\n",
       "      <td>4</td>\n",
       "      <td>1</td>\n",
       "      <td>0</td>\n",
       "      <td>0</td>\n",
       "      <td>1</td>\n",
       "    </tr>\n",
       "    <tr>\n",
       "      <th>16</th>\n",
       "      <td>7.25</td>\n",
       "      <td>10.79</td>\n",
       "      <td>41678</td>\n",
       "      <td>0</td>\n",
       "      <td>5</td>\n",
       "      <td>1</td>\n",
       "      <td>0</td>\n",
       "      <td>0</td>\n",
       "      <td>1</td>\n",
       "    </tr>\n",
       "    <tr>\n",
       "      <th>17</th>\n",
       "      <td>7.75</td>\n",
       "      <td>10.79</td>\n",
       "      <td>43000</td>\n",
       "      <td>0</td>\n",
       "      <td>4</td>\n",
       "      <td>1</td>\n",
       "      <td>0</td>\n",
       "      <td>0</td>\n",
       "      <td>1</td>\n",
       "    </tr>\n",
       "    <tr>\n",
       "      <th>18</th>\n",
       "      <td>3.25</td>\n",
       "      <td>5.09</td>\n",
       "      <td>35500</td>\n",
       "      <td>0</td>\n",
       "      <td>5</td>\n",
       "      <td>0</td>\n",
       "      <td>0</td>\n",
       "      <td>0</td>\n",
       "      <td>1</td>\n",
       "    </tr>\n",
       "    <tr>\n",
       "      <th>19</th>\n",
       "      <td>2.65</td>\n",
       "      <td>7.98</td>\n",
       "      <td>41442</td>\n",
       "      <td>0</td>\n",
       "      <td>10</td>\n",
       "      <td>0</td>\n",
       "      <td>1</td>\n",
       "      <td>0</td>\n",
       "      <td>1</td>\n",
       "    </tr>\n",
       "    <tr>\n",
       "      <th>20</th>\n",
       "      <td>2.85</td>\n",
       "      <td>3.95</td>\n",
       "      <td>25000</td>\n",
       "      <td>0</td>\n",
       "      <td>4</td>\n",
       "      <td>0</td>\n",
       "      <td>1</td>\n",
       "      <td>0</td>\n",
       "      <td>1</td>\n",
       "    </tr>\n",
       "    <tr>\n",
       "      <th>21</th>\n",
       "      <td>4.90</td>\n",
       "      <td>5.71</td>\n",
       "      <td>2400</td>\n",
       "      <td>0</td>\n",
       "      <td>3</td>\n",
       "      <td>0</td>\n",
       "      <td>1</td>\n",
       "      <td>0</td>\n",
       "      <td>1</td>\n",
       "    </tr>\n",
       "    <tr>\n",
       "      <th>22</th>\n",
       "      <td>4.40</td>\n",
       "      <td>8.01</td>\n",
       "      <td>50000</td>\n",
       "      <td>0</td>\n",
       "      <td>9</td>\n",
       "      <td>0</td>\n",
       "      <td>1</td>\n",
       "      <td>0</td>\n",
       "      <td>0</td>\n",
       "    </tr>\n",
       "    <tr>\n",
       "      <th>23</th>\n",
       "      <td>2.50</td>\n",
       "      <td>3.46</td>\n",
       "      <td>45280</td>\n",
       "      <td>0</td>\n",
       "      <td>6</td>\n",
       "      <td>0</td>\n",
       "      <td>1</td>\n",
       "      <td>0</td>\n",
       "      <td>1</td>\n",
       "    </tr>\n",
       "    <tr>\n",
       "      <th>24</th>\n",
       "      <td>2.90</td>\n",
       "      <td>4.41</td>\n",
       "      <td>56879</td>\n",
       "      <td>0</td>\n",
       "      <td>7</td>\n",
       "      <td>0</td>\n",
       "      <td>1</td>\n",
       "      <td>0</td>\n",
       "      <td>1</td>\n",
       "    </tr>\n",
       "    <tr>\n",
       "      <th>25</th>\n",
       "      <td>3.00</td>\n",
       "      <td>4.99</td>\n",
       "      <td>20000</td>\n",
       "      <td>0</td>\n",
       "      <td>9</td>\n",
       "      <td>0</td>\n",
       "      <td>1</td>\n",
       "      <td>0</td>\n",
       "      <td>1</td>\n",
       "    </tr>\n",
       "    <tr>\n",
       "      <th>26</th>\n",
       "      <td>4.15</td>\n",
       "      <td>5.87</td>\n",
       "      <td>55138</td>\n",
       "      <td>0</td>\n",
       "      <td>7</td>\n",
       "      <td>0</td>\n",
       "      <td>1</td>\n",
       "      <td>0</td>\n",
       "      <td>1</td>\n",
       "    </tr>\n",
       "    <tr>\n",
       "      <th>27</th>\n",
       "      <td>6.00</td>\n",
       "      <td>6.49</td>\n",
       "      <td>16200</td>\n",
       "      <td>0</td>\n",
       "      <td>3</td>\n",
       "      <td>0</td>\n",
       "      <td>1</td>\n",
       "      <td>1</td>\n",
       "      <td>1</td>\n",
       "    </tr>\n",
       "    <tr>\n",
       "      <th>28</th>\n",
       "      <td>1.95</td>\n",
       "      <td>3.95</td>\n",
       "      <td>44542</td>\n",
       "      <td>0</td>\n",
       "      <td>10</td>\n",
       "      <td>0</td>\n",
       "      <td>1</td>\n",
       "      <td>0</td>\n",
       "      <td>1</td>\n",
       "    </tr>\n",
       "    <tr>\n",
       "      <th>29</th>\n",
       "      <td>7.45</td>\n",
       "      <td>10.38</td>\n",
       "      <td>45000</td>\n",
       "      <td>0</td>\n",
       "      <td>5</td>\n",
       "      <td>1</td>\n",
       "      <td>0</td>\n",
       "      <td>0</td>\n",
       "      <td>1</td>\n",
       "    </tr>\n",
       "    <tr>\n",
       "      <th>...</th>\n",
       "      <td>...</td>\n",
       "      <td>...</td>\n",
       "      <td>...</td>\n",
       "      <td>...</td>\n",
       "      <td>...</td>\n",
       "      <td>...</td>\n",
       "      <td>...</td>\n",
       "      <td>...</td>\n",
       "      <td>...</td>\n",
       "    </tr>\n",
       "    <tr>\n",
       "      <th>271</th>\n",
       "      <td>3.00</td>\n",
       "      <td>10.00</td>\n",
       "      <td>69562</td>\n",
       "      <td>0</td>\n",
       "      <td>11</td>\n",
       "      <td>0</td>\n",
       "      <td>1</td>\n",
       "      <td>0</td>\n",
       "      <td>1</td>\n",
       "    </tr>\n",
       "    <tr>\n",
       "      <th>272</th>\n",
       "      <td>7.50</td>\n",
       "      <td>10.00</td>\n",
       "      <td>27600</td>\n",
       "      <td>0</td>\n",
       "      <td>5</td>\n",
       "      <td>0</td>\n",
       "      <td>1</td>\n",
       "      <td>0</td>\n",
       "      <td>1</td>\n",
       "    </tr>\n",
       "    <tr>\n",
       "      <th>273</th>\n",
       "      <td>2.25</td>\n",
       "      <td>7.50</td>\n",
       "      <td>61203</td>\n",
       "      <td>0</td>\n",
       "      <td>10</td>\n",
       "      <td>0</td>\n",
       "      <td>1</td>\n",
       "      <td>0</td>\n",
       "      <td>1</td>\n",
       "    </tr>\n",
       "    <tr>\n",
       "      <th>274</th>\n",
       "      <td>5.30</td>\n",
       "      <td>6.80</td>\n",
       "      <td>16500</td>\n",
       "      <td>0</td>\n",
       "      <td>6</td>\n",
       "      <td>0</td>\n",
       "      <td>1</td>\n",
       "      <td>0</td>\n",
       "      <td>1</td>\n",
       "    </tr>\n",
       "    <tr>\n",
       "      <th>275</th>\n",
       "      <td>10.90</td>\n",
       "      <td>13.60</td>\n",
       "      <td>30753</td>\n",
       "      <td>0</td>\n",
       "      <td>4</td>\n",
       "      <td>0</td>\n",
       "      <td>1</td>\n",
       "      <td>0</td>\n",
       "      <td>0</td>\n",
       "    </tr>\n",
       "    <tr>\n",
       "      <th>276</th>\n",
       "      <td>8.65</td>\n",
       "      <td>13.60</td>\n",
       "      <td>24800</td>\n",
       "      <td>0</td>\n",
       "      <td>5</td>\n",
       "      <td>0</td>\n",
       "      <td>1</td>\n",
       "      <td>0</td>\n",
       "      <td>1</td>\n",
       "    </tr>\n",
       "    <tr>\n",
       "      <th>277</th>\n",
       "      <td>9.70</td>\n",
       "      <td>13.60</td>\n",
       "      <td>21780</td>\n",
       "      <td>0</td>\n",
       "      <td>5</td>\n",
       "      <td>0</td>\n",
       "      <td>1</td>\n",
       "      <td>0</td>\n",
       "      <td>1</td>\n",
       "    </tr>\n",
       "    <tr>\n",
       "      <th>278</th>\n",
       "      <td>6.00</td>\n",
       "      <td>8.40</td>\n",
       "      <td>4000</td>\n",
       "      <td>0</td>\n",
       "      <td>4</td>\n",
       "      <td>0</td>\n",
       "      <td>1</td>\n",
       "      <td>0</td>\n",
       "      <td>1</td>\n",
       "    </tr>\n",
       "    <tr>\n",
       "      <th>279</th>\n",
       "      <td>6.25</td>\n",
       "      <td>13.60</td>\n",
       "      <td>40126</td>\n",
       "      <td>0</td>\n",
       "      <td>6</td>\n",
       "      <td>0</td>\n",
       "      <td>1</td>\n",
       "      <td>0</td>\n",
       "      <td>1</td>\n",
       "    </tr>\n",
       "    <tr>\n",
       "      <th>280</th>\n",
       "      <td>5.25</td>\n",
       "      <td>5.90</td>\n",
       "      <td>14465</td>\n",
       "      <td>0</td>\n",
       "      <td>5</td>\n",
       "      <td>0</td>\n",
       "      <td>1</td>\n",
       "      <td>0</td>\n",
       "      <td>1</td>\n",
       "    </tr>\n",
       "    <tr>\n",
       "      <th>281</th>\n",
       "      <td>2.10</td>\n",
       "      <td>7.60</td>\n",
       "      <td>50456</td>\n",
       "      <td>0</td>\n",
       "      <td>14</td>\n",
       "      <td>0</td>\n",
       "      <td>1</td>\n",
       "      <td>0</td>\n",
       "      <td>1</td>\n",
       "    </tr>\n",
       "    <tr>\n",
       "      <th>282</th>\n",
       "      <td>8.25</td>\n",
       "      <td>14.00</td>\n",
       "      <td>63000</td>\n",
       "      <td>0</td>\n",
       "      <td>6</td>\n",
       "      <td>1</td>\n",
       "      <td>0</td>\n",
       "      <td>0</td>\n",
       "      <td>1</td>\n",
       "    </tr>\n",
       "    <tr>\n",
       "      <th>283</th>\n",
       "      <td>8.99</td>\n",
       "      <td>11.80</td>\n",
       "      <td>9010</td>\n",
       "      <td>0</td>\n",
       "      <td>4</td>\n",
       "      <td>0</td>\n",
       "      <td>1</td>\n",
       "      <td>0</td>\n",
       "      <td>1</td>\n",
       "    </tr>\n",
       "    <tr>\n",
       "      <th>284</th>\n",
       "      <td>3.50</td>\n",
       "      <td>5.90</td>\n",
       "      <td>9800</td>\n",
       "      <td>0</td>\n",
       "      <td>7</td>\n",
       "      <td>0</td>\n",
       "      <td>1</td>\n",
       "      <td>0</td>\n",
       "      <td>1</td>\n",
       "    </tr>\n",
       "    <tr>\n",
       "      <th>285</th>\n",
       "      <td>7.40</td>\n",
       "      <td>8.50</td>\n",
       "      <td>15059</td>\n",
       "      <td>0</td>\n",
       "      <td>4</td>\n",
       "      <td>0</td>\n",
       "      <td>1</td>\n",
       "      <td>0</td>\n",
       "      <td>0</td>\n",
       "    </tr>\n",
       "    <tr>\n",
       "      <th>286</th>\n",
       "      <td>5.65</td>\n",
       "      <td>7.90</td>\n",
       "      <td>28569</td>\n",
       "      <td>0</td>\n",
       "      <td>4</td>\n",
       "      <td>0</td>\n",
       "      <td>1</td>\n",
       "      <td>0</td>\n",
       "      <td>1</td>\n",
       "    </tr>\n",
       "    <tr>\n",
       "      <th>287</th>\n",
       "      <td>5.75</td>\n",
       "      <td>7.50</td>\n",
       "      <td>44000</td>\n",
       "      <td>0</td>\n",
       "      <td>5</td>\n",
       "      <td>0</td>\n",
       "      <td>1</td>\n",
       "      <td>0</td>\n",
       "      <td>0</td>\n",
       "    </tr>\n",
       "    <tr>\n",
       "      <th>288</th>\n",
       "      <td>8.40</td>\n",
       "      <td>13.60</td>\n",
       "      <td>34000</td>\n",
       "      <td>0</td>\n",
       "      <td>5</td>\n",
       "      <td>0</td>\n",
       "      <td>1</td>\n",
       "      <td>0</td>\n",
       "      <td>1</td>\n",
       "    </tr>\n",
       "    <tr>\n",
       "      <th>289</th>\n",
       "      <td>10.11</td>\n",
       "      <td>13.60</td>\n",
       "      <td>10980</td>\n",
       "      <td>0</td>\n",
       "      <td>4</td>\n",
       "      <td>0</td>\n",
       "      <td>1</td>\n",
       "      <td>0</td>\n",
       "      <td>1</td>\n",
       "    </tr>\n",
       "    <tr>\n",
       "      <th>290</th>\n",
       "      <td>4.50</td>\n",
       "      <td>6.40</td>\n",
       "      <td>19000</td>\n",
       "      <td>0</td>\n",
       "      <td>6</td>\n",
       "      <td>0</td>\n",
       "      <td>1</td>\n",
       "      <td>0</td>\n",
       "      <td>1</td>\n",
       "    </tr>\n",
       "    <tr>\n",
       "      <th>291</th>\n",
       "      <td>5.40</td>\n",
       "      <td>6.10</td>\n",
       "      <td>31427</td>\n",
       "      <td>0</td>\n",
       "      <td>5</td>\n",
       "      <td>0</td>\n",
       "      <td>1</td>\n",
       "      <td>0</td>\n",
       "      <td>1</td>\n",
       "    </tr>\n",
       "    <tr>\n",
       "      <th>292</th>\n",
       "      <td>6.40</td>\n",
       "      <td>8.40</td>\n",
       "      <td>12000</td>\n",
       "      <td>0</td>\n",
       "      <td>4</td>\n",
       "      <td>0</td>\n",
       "      <td>1</td>\n",
       "      <td>0</td>\n",
       "      <td>1</td>\n",
       "    </tr>\n",
       "    <tr>\n",
       "      <th>293</th>\n",
       "      <td>3.25</td>\n",
       "      <td>9.90</td>\n",
       "      <td>38000</td>\n",
       "      <td>0</td>\n",
       "      <td>10</td>\n",
       "      <td>0</td>\n",
       "      <td>1</td>\n",
       "      <td>0</td>\n",
       "      <td>1</td>\n",
       "    </tr>\n",
       "    <tr>\n",
       "      <th>294</th>\n",
       "      <td>3.75</td>\n",
       "      <td>6.80</td>\n",
       "      <td>33019</td>\n",
       "      <td>0</td>\n",
       "      <td>6</td>\n",
       "      <td>0</td>\n",
       "      <td>1</td>\n",
       "      <td>0</td>\n",
       "      <td>1</td>\n",
       "    </tr>\n",
       "    <tr>\n",
       "      <th>295</th>\n",
       "      <td>8.55</td>\n",
       "      <td>13.09</td>\n",
       "      <td>60076</td>\n",
       "      <td>0</td>\n",
       "      <td>5</td>\n",
       "      <td>1</td>\n",
       "      <td>0</td>\n",
       "      <td>0</td>\n",
       "      <td>1</td>\n",
       "    </tr>\n",
       "    <tr>\n",
       "      <th>296</th>\n",
       "      <td>9.50</td>\n",
       "      <td>11.60</td>\n",
       "      <td>33988</td>\n",
       "      <td>0</td>\n",
       "      <td>4</td>\n",
       "      <td>1</td>\n",
       "      <td>0</td>\n",
       "      <td>0</td>\n",
       "      <td>1</td>\n",
       "    </tr>\n",
       "    <tr>\n",
       "      <th>297</th>\n",
       "      <td>4.00</td>\n",
       "      <td>5.90</td>\n",
       "      <td>60000</td>\n",
       "      <td>0</td>\n",
       "      <td>5</td>\n",
       "      <td>0</td>\n",
       "      <td>1</td>\n",
       "      <td>0</td>\n",
       "      <td>1</td>\n",
       "    </tr>\n",
       "    <tr>\n",
       "      <th>298</th>\n",
       "      <td>3.35</td>\n",
       "      <td>11.00</td>\n",
       "      <td>87934</td>\n",
       "      <td>0</td>\n",
       "      <td>11</td>\n",
       "      <td>0</td>\n",
       "      <td>1</td>\n",
       "      <td>0</td>\n",
       "      <td>1</td>\n",
       "    </tr>\n",
       "    <tr>\n",
       "      <th>299</th>\n",
       "      <td>11.50</td>\n",
       "      <td>12.50</td>\n",
       "      <td>9000</td>\n",
       "      <td>0</td>\n",
       "      <td>3</td>\n",
       "      <td>1</td>\n",
       "      <td>0</td>\n",
       "      <td>0</td>\n",
       "      <td>1</td>\n",
       "    </tr>\n",
       "    <tr>\n",
       "      <th>300</th>\n",
       "      <td>5.30</td>\n",
       "      <td>5.90</td>\n",
       "      <td>5464</td>\n",
       "      <td>0</td>\n",
       "      <td>4</td>\n",
       "      <td>0</td>\n",
       "      <td>1</td>\n",
       "      <td>0</td>\n",
       "      <td>1</td>\n",
       "    </tr>\n",
       "  </tbody>\n",
       "</table>\n",
       "<p>301 rows × 9 columns</p>\n",
       "</div>"
      ],
      "text/plain": [
       "     Selling_Price  Present_Price  Kms_Driven  Owner  no_of_years  \\\n",
       "0             3.35           5.59       27000      0            6   \n",
       "1             4.75           9.54       43000      0            7   \n",
       "2             7.25           9.85        6900      0            3   \n",
       "3             2.85           4.15        5200      0            9   \n",
       "4             4.60           6.87       42450      0            6   \n",
       "5             9.25           9.83        2071      0            2   \n",
       "6             6.75           8.12       18796      0            5   \n",
       "7             6.50           8.61       33429      0            5   \n",
       "8             8.75           8.89       20273      0            4   \n",
       "9             7.45           8.92       42367      0            5   \n",
       "10            2.85           3.60        2135      0            3   \n",
       "11            6.85          10.38       51000      0            5   \n",
       "12            7.50           9.94       15000      0            5   \n",
       "13            6.10           7.71       26000      0            5   \n",
       "14            2.25           7.21       77427      0           11   \n",
       "15            7.75          10.79       43000      0            4   \n",
       "16            7.25          10.79       41678      0            5   \n",
       "17            7.75          10.79       43000      0            4   \n",
       "18            3.25           5.09       35500      0            5   \n",
       "19            2.65           7.98       41442      0           10   \n",
       "20            2.85           3.95       25000      0            4   \n",
       "21            4.90           5.71        2400      0            3   \n",
       "22            4.40           8.01       50000      0            9   \n",
       "23            2.50           3.46       45280      0            6   \n",
       "24            2.90           4.41       56879      0            7   \n",
       "25            3.00           4.99       20000      0            9   \n",
       "26            4.15           5.87       55138      0            7   \n",
       "27            6.00           6.49       16200      0            3   \n",
       "28            1.95           3.95       44542      0           10   \n",
       "29            7.45          10.38       45000      0            5   \n",
       "..             ...            ...         ...    ...          ...   \n",
       "271           3.00          10.00       69562      0           11   \n",
       "272           7.50          10.00       27600      0            5   \n",
       "273           2.25           7.50       61203      0           10   \n",
       "274           5.30           6.80       16500      0            6   \n",
       "275          10.90          13.60       30753      0            4   \n",
       "276           8.65          13.60       24800      0            5   \n",
       "277           9.70          13.60       21780      0            5   \n",
       "278           6.00           8.40        4000      0            4   \n",
       "279           6.25          13.60       40126      0            6   \n",
       "280           5.25           5.90       14465      0            5   \n",
       "281           2.10           7.60       50456      0           14   \n",
       "282           8.25          14.00       63000      0            6   \n",
       "283           8.99          11.80        9010      0            4   \n",
       "284           3.50           5.90        9800      0            7   \n",
       "285           7.40           8.50       15059      0            4   \n",
       "286           5.65           7.90       28569      0            4   \n",
       "287           5.75           7.50       44000      0            5   \n",
       "288           8.40          13.60       34000      0            5   \n",
       "289          10.11          13.60       10980      0            4   \n",
       "290           4.50           6.40       19000      0            6   \n",
       "291           5.40           6.10       31427      0            5   \n",
       "292           6.40           8.40       12000      0            4   \n",
       "293           3.25           9.90       38000      0           10   \n",
       "294           3.75           6.80       33019      0            6   \n",
       "295           8.55          13.09       60076      0            5   \n",
       "296           9.50          11.60       33988      0            4   \n",
       "297           4.00           5.90       60000      0            5   \n",
       "298           3.35          11.00       87934      0           11   \n",
       "299          11.50          12.50        9000      0            3   \n",
       "300           5.30           5.90        5464      0            4   \n",
       "\n",
       "     Fuel_Type_Diesel  Fuel_Type_Petrol  Seller_Type_Individual  \\\n",
       "0                   0                 1                       0   \n",
       "1                   1                 0                       0   \n",
       "2                   0                 1                       0   \n",
       "3                   0                 1                       0   \n",
       "4                   1                 0                       0   \n",
       "5                   1                 0                       0   \n",
       "6                   0                 1                       0   \n",
       "7                   1                 0                       0   \n",
       "8                   1                 0                       0   \n",
       "9                   1                 0                       0   \n",
       "10                  0                 1                       0   \n",
       "11                  1                 0                       0   \n",
       "12                  0                 1                       0   \n",
       "13                  0                 1                       0   \n",
       "14                  0                 1                       0   \n",
       "15                  1                 0                       0   \n",
       "16                  1                 0                       0   \n",
       "17                  1                 0                       0   \n",
       "18                  0                 0                       0   \n",
       "19                  0                 1                       0   \n",
       "20                  0                 1                       0   \n",
       "21                  0                 1                       0   \n",
       "22                  0                 1                       0   \n",
       "23                  0                 1                       0   \n",
       "24                  0                 1                       0   \n",
       "25                  0                 1                       0   \n",
       "26                  0                 1                       0   \n",
       "27                  0                 1                       1   \n",
       "28                  0                 1                       0   \n",
       "29                  1                 0                       0   \n",
       "..                ...               ...                     ...   \n",
       "271                 0                 1                       0   \n",
       "272                 0                 1                       0   \n",
       "273                 0                 1                       0   \n",
       "274                 0                 1                       0   \n",
       "275                 0                 1                       0   \n",
       "276                 0                 1                       0   \n",
       "277                 0                 1                       0   \n",
       "278                 0                 1                       0   \n",
       "279                 0                 1                       0   \n",
       "280                 0                 1                       0   \n",
       "281                 0                 1                       0   \n",
       "282                 1                 0                       0   \n",
       "283                 0                 1                       0   \n",
       "284                 0                 1                       0   \n",
       "285                 0                 1                       0   \n",
       "286                 0                 1                       0   \n",
       "287                 0                 1                       0   \n",
       "288                 0                 1                       0   \n",
       "289                 0                 1                       0   \n",
       "290                 0                 1                       0   \n",
       "291                 0                 1                       0   \n",
       "292                 0                 1                       0   \n",
       "293                 0                 1                       0   \n",
       "294                 0                 1                       0   \n",
       "295                 1                 0                       0   \n",
       "296                 1                 0                       0   \n",
       "297                 0                 1                       0   \n",
       "298                 0                 1                       0   \n",
       "299                 1                 0                       0   \n",
       "300                 0                 1                       0   \n",
       "\n",
       "     Transmission_Manual  \n",
       "0                      1  \n",
       "1                      1  \n",
       "2                      1  \n",
       "3                      1  \n",
       "4                      1  \n",
       "5                      1  \n",
       "6                      1  \n",
       "7                      1  \n",
       "8                      1  \n",
       "9                      1  \n",
       "10                     1  \n",
       "11                     1  \n",
       "12                     0  \n",
       "13                     1  \n",
       "14                     1  \n",
       "15                     1  \n",
       "16                     1  \n",
       "17                     1  \n",
       "18                     1  \n",
       "19                     1  \n",
       "20                     1  \n",
       "21                     1  \n",
       "22                     0  \n",
       "23                     1  \n",
       "24                     1  \n",
       "25                     1  \n",
       "26                     1  \n",
       "27                     1  \n",
       "28                     1  \n",
       "29                     1  \n",
       "..                   ...  \n",
       "271                    1  \n",
       "272                    1  \n",
       "273                    1  \n",
       "274                    1  \n",
       "275                    0  \n",
       "276                    1  \n",
       "277                    1  \n",
       "278                    1  \n",
       "279                    1  \n",
       "280                    1  \n",
       "281                    1  \n",
       "282                    1  \n",
       "283                    1  \n",
       "284                    1  \n",
       "285                    0  \n",
       "286                    1  \n",
       "287                    0  \n",
       "288                    1  \n",
       "289                    1  \n",
       "290                    1  \n",
       "291                    1  \n",
       "292                    1  \n",
       "293                    1  \n",
       "294                    1  \n",
       "295                    1  \n",
       "296                    1  \n",
       "297                    1  \n",
       "298                    1  \n",
       "299                    1  \n",
       "300                    1  \n",
       "\n",
       "[301 rows x 9 columns]"
      ]
     },
     "execution_count": 24,
     "metadata": {},
     "output_type": "execute_result"
    }
   ],
   "source": [
    "final_df"
   ]
  },
  {
   "cell_type": "code",
   "execution_count": null,
   "metadata": {},
   "outputs": [],
   "source": []
  },
  {
   "cell_type": "code",
   "execution_count": 25,
   "metadata": {},
   "outputs": [
    {
     "data": {
      "text/plain": [
       "<seaborn.axisgrid.PairGrid at 0x18874748>"
      ]
     },
     "execution_count": 25,
     "metadata": {},
     "output_type": "execute_result"
    },
    {
     "data": {
      "image/png": "[encoded data removed]",
      "text/plain": [
       "<Figure size 1620x1620 with 90 Axes>"
      ]
     },
     "metadata": {
      "needs_background": "light"
     },
     "output_type": "display_data"
    }
   ],
   "source": [
    "sns.pairplot(final_df)"
   ]
  },
  {
   "cell_type": "code",
   "execution_count": 26,
   "metadata": {},
   "outputs": [
    {
     "data": {
      "image/png": "[encoded data removed]",
      "text/plain": [
       "<Figure size 1440x1440 with 2 Axes>"
      ]
     },
     "metadata": {
      "needs_background": "light"
     },
     "output_type": "display_data"
    }
   ],
   "source": [
    "\n",
    "import seaborn as sns\n",
    "#get correlations of each features in dataset\n",
    "corrmat = final_df.corr()\n",
    "top_corr_features = corrmat.index\n",
    "plt.figure(figsize=(20,20))\n",
    "#plot heat map\n",
    "g=sns.heatmap(final_df[top_corr_features].corr(),annot=True,cmap=\"RdYlGn\")"
   ]
  },
  {
   "cell_type": "code",
   "execution_count": 27,
   "metadata": {},
   "outputs": [
    {
     "data": {
      "text/plain": [
       "Index([u'Selling_Price', u'Present_Price', u'Kms_Driven', u'Owner',\n",
       "       u'no_of_years', u'Fuel_Type_Diesel', u'Fuel_Type_Petrol',\n",
       "       u'Seller_Type_Individual', u'Transmission_Manual'],\n",
       "      dtype='object')"
      ]
     },
     "execution_count": 27,
     "metadata": {},
     "output_type": "execute_result"
    }
   ],
   "source": [
    "final_df.columns"
   ]
  },
  {
   "cell_type": "code",
   "execution_count": 28,
   "metadata": {},
   "outputs": [
    {
     "data": {
      "text/plain": [
       "(301, 9)"
      ]
     },
     "execution_count": 28,
     "metadata": {},
     "output_type": "execute_result"
    }
   ],
   "source": [
    "final_df.shape"
   ]
  },
  {
   "cell_type": "markdown",
   "metadata": {},
   "source": [
    "### Building of the model\n"
   ]
  },
  {
   "cell_type": "code",
   "execution_count": 30,
   "metadata": {},
   "outputs": [],
   "source": [
    "X = final_df.iloc[:,1:]\n",
    "y = final_df.iloc[:,0]"
   ]
  },
  {
   "cell_type": "code",
   "execution_count": 42,
   "metadata": {},
   "outputs": [
    {
     "data": {
      "text/html": [
       "<div>\n",
       "<style scoped>\n",
       "    .dataframe tbody tr th:only-of-type {\n",
       "        vertical-align: middle;\n",
       "    }\n",
       "\n",
       "    .dataframe tbody tr th {\n",
       "        vertical-align: top;\n",
       "    }\n",
       "\n",
       "    .dataframe thead th {\n",
       "        text-align: right;\n",
       "    }\n",
       "</style>\n",
       "<table border=\"1\" class=\"dataframe\">\n",
       "  <thead>\n",
       "    <tr style=\"text-align: right;\">\n",
       "      <th></th>\n",
       "      <th>Present_Price</th>\n",
       "      <th>Kms_Driven</th>\n",
       "      <th>Owner</th>\n",
       "      <th>no_of_years</th>\n",
       "      <th>Fuel_Type_Diesel</th>\n",
       "      <th>Fuel_Type_Petrol</th>\n",
       "      <th>Seller_Type_Individual</th>\n",
       "      <th>Transmission_Manual</th>\n",
       "    </tr>\n",
       "  </thead>\n",
       "  <tbody>\n",
       "    <tr>\n",
       "      <th>0</th>\n",
       "      <td>5.59</td>\n",
       "      <td>27000</td>\n",
       "      <td>0</td>\n",
       "      <td>6</td>\n",
       "      <td>0</td>\n",
       "      <td>1</td>\n",
       "      <td>0</td>\n",
       "      <td>1</td>\n",
       "    </tr>\n",
       "    <tr>\n",
       "      <th>1</th>\n",
       "      <td>9.54</td>\n",
       "      <td>43000</td>\n",
       "      <td>0</td>\n",
       "      <td>7</td>\n",
       "      <td>1</td>\n",
       "      <td>0</td>\n",
       "      <td>0</td>\n",
       "      <td>1</td>\n",
       "    </tr>\n",
       "    <tr>\n",
       "      <th>2</th>\n",
       "      <td>9.85</td>\n",
       "      <td>6900</td>\n",
       "      <td>0</td>\n",
       "      <td>3</td>\n",
       "      <td>0</td>\n",
       "      <td>1</td>\n",
       "      <td>0</td>\n",
       "      <td>1</td>\n",
       "    </tr>\n",
       "    <tr>\n",
       "      <th>3</th>\n",
       "      <td>4.15</td>\n",
       "      <td>5200</td>\n",
       "      <td>0</td>\n",
       "      <td>9</td>\n",
       "      <td>0</td>\n",
       "      <td>1</td>\n",
       "      <td>0</td>\n",
       "      <td>1</td>\n",
       "    </tr>\n",
       "    <tr>\n",
       "      <th>4</th>\n",
       "      <td>6.87</td>\n",
       "      <td>42450</td>\n",
       "      <td>0</td>\n",
       "      <td>6</td>\n",
       "      <td>1</td>\n",
       "      <td>0</td>\n",
       "      <td>0</td>\n",
       "      <td>1</td>\n",
       "    </tr>\n",
       "  </tbody>\n",
       "</table>\n",
       "</div>"
      ],
      "text/plain": [
       "   Present_Price  Kms_Driven  Owner  no_of_years  Fuel_Type_Diesel  \\\n",
       "0           5.59       27000      0            6                 0   \n",
       "1           9.54       43000      0            7                 1   \n",
       "2           9.85        6900      0            3                 0   \n",
       "3           4.15        5200      0            9                 0   \n",
       "4           6.87       42450      0            6                 1   \n",
       "\n",
       "   Fuel_Type_Petrol  Seller_Type_Individual  Transmission_Manual  \n",
       "0                 1                       0                    1  \n",
       "1                 0                       0                    1  \n",
       "2                 1                       0                    1  \n",
       "3                 1                       0                    1  \n",
       "4                 0                       0                    1  "
      ]
     },
     "execution_count": 42,
     "metadata": {},
     "output_type": "execute_result"
    }
   ],
   "source": [
    "X.head()"
   ]
  },
  {
   "cell_type": "code",
   "execution_count": 43,
   "metadata": {},
   "outputs": [
    {
     "data": {
      "text/plain": [
       "(301, 8)"
      ]
     },
     "execution_count": 43,
     "metadata": {},
     "output_type": "execute_result"
    }
   ],
   "source": [
    "X.shape"
   ]
  },
  {
   "cell_type": "code",
   "execution_count": 46,
   "metadata": {},
   "outputs": [
    {
     "data": {
      "text/plain": [
       "0    3.35\n",
       "1    4.75\n",
       "2    7.25\n",
       "3    2.85\n",
       "4    4.60\n",
       "Name: Selling_Price, dtype: float64"
      ]
     },
     "execution_count": 46,
     "metadata": {},
     "output_type": "execute_result"
    }
   ],
   "source": [
    "y.head()"
   ]
  },
  {
   "cell_type": "code",
   "execution_count": 47,
   "metadata": {},
   "outputs": [
    {
     "data": {
      "text/plain": [
       "(301L,)"
      ]
     },
     "execution_count": 47,
     "metadata": {},
     "output_type": "execute_result"
    }
   ],
   "source": [
    "y.shape"
   ]
  },
  {
   "cell_type": "code",
   "execution_count": 31,
   "metadata": {},
   "outputs": [
    {
     "data": {
      "text/plain": [
       "ExtraTreesRegressor(bootstrap=False, criterion='mse', max_depth=None,\n",
       "          max_features='auto', max_leaf_nodes=None,\n",
       "          min_impurity_decrease=0.0, min_impurity_split=None,\n",
       "          min_samples_leaf=1, min_samples_split=2,\n",
       "          min_weight_fraction_leaf=0.0, n_estimators=10, n_jobs=None,\n",
       "          oob_score=False, random_state=None, verbose=0, warm_start=False)"
      ]
     },
     "execution_count": 31,
     "metadata": {},
     "output_type": "execute_result"
    }
   ],
   "source": [
    "##Checking the import features using ExtraTreesRegressor\n",
    "\n",
    "from sklearn.ensemble import ExtraTreesRegressor\n",
    "et_reg = ExtraTreesRegressor()\n",
    "et_reg.fit(X,y)"
   ]
  },
  {
   "cell_type": "code",
   "execution_count": 32,
   "metadata": {},
   "outputs": [
    {
     "data": {
      "text/plain": [
       "array([3.19266677e-01, 4.32977657e-02, 2.68675994e-04, 7.46043667e-02,\n",
       "       2.26401195e-01, 1.36811483e-02, 1.66186466e-01, 1.56293705e-01])"
      ]
     },
     "execution_count": 32,
     "metadata": {},
     "output_type": "execute_result"
    }
   ],
   "source": [
    "et_reg.feature_importances_"
   ]
  },
  {
   "cell_type": "code",
   "execution_count": 33,
   "metadata": {},
   "outputs": [
    {
     "data": {
      "image/png": "[encoded data removed]",
      "text/plain": [
       "<Figure size 432x288 with 1 Axes>"
      ]
     },
     "metadata": {
      "needs_background": "light"
     },
     "output_type": "display_data"
    }
   ],
   "source": [
    "#plot graph of feature importances for better visualization\n",
    "important_features = pd.Series(et_reg.feature_importances_, index=X.columns)\n",
    "important_features.nlargest(5).plot(kind='barh')\n",
    "plt.show()"
   ]
  },
  {
   "cell_type": "code",
   "execution_count": null,
   "metadata": {},
   "outputs": [],
   "source": []
  },
  {
   "cell_type": "code",
   "execution_count": 34,
   "metadata": {},
   "outputs": [],
   "source": [
    "from sklearn.model_selection import train_test_split\n",
    "X_train, X_test, y_train, y_test = train_test_split(X, y, test_size=0.3, random_state=0)"
   ]
  },
  {
   "cell_type": "code",
   "execution_count": 35,
   "metadata": {},
   "outputs": [
    {
     "data": {
      "text/plain": [
       "(210, 8)"
      ]
     },
     "execution_count": 35,
     "metadata": {},
     "output_type": "execute_result"
    }
   ],
   "source": [
    "X_train.shape"
   ]
  },
  {
   "cell_type": "code",
   "execution_count": 56,
   "metadata": {},
   "outputs": [
    {
     "data": {
      "text/plain": [
       "(91, 8)"
      ]
     },
     "execution_count": 56,
     "metadata": {},
     "output_type": "execute_result"
    }
   ],
   "source": [
    "X_test.shape"
   ]
  },
  {
   "cell_type": "code",
   "execution_count": null,
   "metadata": {},
   "outputs": [],
   "source": []
  },
  {
   "cell_type": "code",
   "execution_count": 36,
   "metadata": {},
   "outputs": [],
   "source": [
    "from sklearn.ensemble import RandomForestRegressor"
   ]
  },
  {
   "cell_type": "code",
   "execution_count": 37,
   "metadata": {},
   "outputs": [],
   "source": [
    "#Base model for tuning\n",
    "\n",
    "rf_regressor = RandomForestRegressor()"
   ]
  },
  {
   "cell_type": "code",
   "execution_count": null,
   "metadata": {},
   "outputs": [],
   "source": []
  },
  {
   "cell_type": "code",
   "execution_count": null,
   "metadata": {},
   "outputs": [],
   "source": [
    "## Hyperparameter optimization using RandomizedSearchCV"
   ]
  },
  {
   "cell_type": "code",
   "execution_count": 38,
   "metadata": {},
   "outputs": [],
   "source": [
    "# Number of trees in random forest\n",
    "n_estimators = [int(x) for x in np.linspace(start = 100, stop = 1200, num = 12)]\n",
    "# Number of features to consider at every split\n",
    "max_features = ['auto', 'sqrt']\n",
    "# Maximum number of levels in tree\n",
    "max_depth = [int(x) for x in np.linspace(5, 30, num = 6)]\n",
    "# max_depth.append(None)\n",
    "# Minimum number of samples required to split a node\n",
    "min_samples_split = [2, 5, 10, 15, 100]\n",
    "# Minimum number of samples required at each leaf node\n",
    "min_samples_leaf = [1, 2, 5, 10]\n"
   ]
  },
  {
   "cell_type": "code",
   "execution_count": 40,
   "metadata": {},
   "outputs": [
    {
     "name": "stdout",
     "output_type": "stream",
     "text": [
      "{'n_estimators': [100, 200, 300, 400, 500, 600, 700, 800, 900, 1000, 1100, 1200], 'max_features': ['auto', 'sqrt'], 'min_samples_split': [2, 5, 10, 15, 100], 'max_depth': [5, 10, 15, 20, 25, 30], 'min_samples_leaf': [1, 2, 5, 10]}\n"
     ]
    }
   ],
   "source": [
    "# Create the random grid\n",
    "parameters = {'n_estimators': n_estimators,\n",
    "               'max_features': max_features,\n",
    "               'max_depth': max_depth,\n",
    "               'min_samples_split': min_samples_split,\n",
    "               'min_samples_leaf': min_samples_leaf}\n",
    "\n",
    "print(parameters)"
   ]
  },
  {
   "cell_type": "code",
   "execution_count": 41,
   "metadata": {},
   "outputs": [],
   "source": [
    "from sklearn.model_selection import RandomizedSearchCV"
   ]
  },
  {
   "cell_type": "code",
   "execution_count": 42,
   "metadata": {},
   "outputs": [],
   "source": [
    "\n",
    "random_search = RandomizedSearchCV(estimator= rf_regressor, param_distributions = parameters,scoring='neg_mean_squared_error', n_iter = 10, cv = 5, verbose=3, random_state=42, n_jobs = 1)"
   ]
  },
  {
   "cell_type": "code",
   "execution_count": 43,
   "metadata": {},
   "outputs": [
    {
     "name": "stdout",
     "output_type": "stream",
     "text": [
      "Fitting 5 folds for each of 10 candidates, totalling 50 fits\n",
      "[CV] n_estimators=900, min_samples_split=5, max_depth=10, max_features=sqrt, min_samples_leaf=5 \n"
     ]
    },
    {
     "name": "stderr",
     "output_type": "stream",
     "text": [
      "[Parallel(n_jobs=1)]: Using backend SequentialBackend with 1 concurrent workers.\n"
     ]
    },
    {
     "name": "stdout",
     "output_type": "stream",
     "text": [
      "[CV]  n_estimators=900, min_samples_split=5, max_depth=10, max_features=sqrt, min_samples_leaf=5, score=-2.77419341212, total=   2.0s\n",
      "[CV] n_estimators=900, min_samples_split=5, max_depth=10, max_features=sqrt, min_samples_leaf=5 \n"
     ]
    },
    {
     "name": "stderr",
     "output_type": "stream",
     "text": [
      "[Parallel(n_jobs=1)]: Done   1 out of   1 | elapsed:    2.1s remaining:    0.0s\n"
     ]
    },
    {
     "name": "stdout",
     "output_type": "stream",
     "text": [
      "[CV]  n_estimators=900, min_samples_split=5, max_depth=10, max_features=sqrt, min_samples_leaf=5, score=-19.4796667599, total=   1.9s\n",
      "[CV] n_estimators=900, min_samples_split=5, max_depth=10, max_features=sqrt, min_samples_leaf=5 \n"
     ]
    },
    {
     "name": "stderr",
     "output_type": "stream",
     "text": [
      "[Parallel(n_jobs=1)]: Done   2 out of   2 | elapsed:    4.2s remaining:    0.0s\n"
     ]
    },
    {
     "name": "stdout",
     "output_type": "stream",
     "text": [
      "[CV]  n_estimators=900, min_samples_split=5, max_depth=10, max_features=sqrt, min_samples_leaf=5, score=-4.37976715923, total=   2.1s\n",
      "[CV] n_estimators=900, min_samples_split=5, max_depth=10, max_features=sqrt, min_samples_leaf=5 \n",
      "[CV]  n_estimators=900, min_samples_split=5, max_depth=10, max_features=sqrt, min_samples_leaf=5, score=-4.99314087082, total=   2.0s\n",
      "[CV] n_estimators=900, min_samples_split=5, max_depth=10, max_features=sqrt, min_samples_leaf=5 \n",
      "[CV]  n_estimators=900, min_samples_split=5, max_depth=10, max_features=sqrt, min_samples_leaf=5, score=-1.1804696063, total=   1.9s\n",
      "[CV] n_estimators=1100, min_samples_split=10, max_depth=15, max_features=sqrt, min_samples_leaf=2 \n",
      "[CV]  n_estimators=1100, min_samples_split=10, max_depth=15, max_features=sqrt, min_samples_leaf=2, score=-1.86247199981, total=   2.4s\n",
      "[CV] n_estimators=1100, min_samples_split=10, max_depth=15, max_features=sqrt, min_samples_leaf=2 \n",
      "[CV]  n_estimators=1100, min_samples_split=10, max_depth=15, max_features=sqrt, min_samples_leaf=2, score=-16.0240107033, total=   2.6s\n",
      "[CV] n_estimators=1100, min_samples_split=10, max_depth=15, max_features=sqrt, min_samples_leaf=2 \n",
      "[CV]  n_estimators=1100, min_samples_split=10, max_depth=15, max_features=sqrt, min_samples_leaf=2, score=-2.85360480538, total=   2.6s\n",
      "[CV] n_estimators=1100, min_samples_split=10, max_depth=15, max_features=sqrt, min_samples_leaf=2 \n",
      "[CV]  n_estimators=1100, min_samples_split=10, max_depth=15, max_features=sqrt, min_samples_leaf=2, score=-4.23010710433, total=   2.5s\n",
      "[CV] n_estimators=1100, min_samples_split=10, max_depth=15, max_features=sqrt, min_samples_leaf=2 \n",
      "[CV]  n_estimators=1100, min_samples_split=10, max_depth=15, max_features=sqrt, min_samples_leaf=2, score=-0.855075491759, total=   2.7s\n",
      "[CV] n_estimators=300, min_samples_split=100, max_depth=15, max_features=auto, min_samples_leaf=5 \n",
      "[CV]  n_estimators=300, min_samples_split=100, max_depth=15, max_features=auto, min_samples_leaf=5, score=-4.26687124237, total=   0.7s\n",
      "[CV] n_estimators=300, min_samples_split=100, max_depth=15, max_features=auto, min_samples_leaf=5 \n",
      "[CV]  n_estimators=300, min_samples_split=100, max_depth=15, max_features=auto, min_samples_leaf=5, score=-22.7879580306, total=   0.6s\n",
      "[CV] n_estimators=300, min_samples_split=100, max_depth=15, max_features=auto, min_samples_leaf=5 \n",
      "[CV]  n_estimators=300, min_samples_split=100, max_depth=15, max_features=auto, min_samples_leaf=5, score=-10.493001521, total=   0.6s\n",
      "[CV] n_estimators=300, min_samples_split=100, max_depth=15, max_features=auto, min_samples_leaf=5 \n",
      "[CV]  n_estimators=300, min_samples_split=100, max_depth=15, max_features=auto, min_samples_leaf=5, score=-6.64213285217, total=   0.7s\n",
      "[CV] n_estimators=300, min_samples_split=100, max_depth=15, max_features=auto, min_samples_leaf=5 \n",
      "[CV]  n_estimators=300, min_samples_split=100, max_depth=15, max_features=auto, min_samples_leaf=5, score=-3.58625188206, total=   1.0s\n",
      "[CV] n_estimators=400, min_samples_split=5, max_depth=15, max_features=auto, min_samples_leaf=5 \n",
      "[CV]  n_estimators=400, min_samples_split=5, max_depth=15, max_features=auto, min_samples_leaf=5, score=-0.648808962132, total=   0.9s\n",
      "[CV] n_estimators=400, min_samples_split=5, max_depth=15, max_features=auto, min_samples_leaf=5 \n",
      "[CV]  n_estimators=400, min_samples_split=5, max_depth=15, max_features=auto, min_samples_leaf=5, score=-12.2747478076, total=   0.8s\n",
      "[CV] n_estimators=400, min_samples_split=5, max_depth=15, max_features=auto, min_samples_leaf=5 \n",
      "[CV]  n_estimators=400, min_samples_split=5, max_depth=15, max_features=auto, min_samples_leaf=5, score=-9.05285921769, total=   0.9s\n",
      "[CV] n_estimators=400, min_samples_split=5, max_depth=15, max_features=auto, min_samples_leaf=5 \n",
      "[CV]  n_estimators=400, min_samples_split=5, max_depth=15, max_features=auto, min_samples_leaf=5, score=-2.41617361401, total=   0.9s\n",
      "[CV] n_estimators=400, min_samples_split=5, max_depth=15, max_features=auto, min_samples_leaf=5 \n",
      "[CV]  n_estimators=400, min_samples_split=5, max_depth=15, max_features=auto, min_samples_leaf=5, score=-0.7417358255, total=   0.9s\n",
      "[CV] n_estimators=700, min_samples_split=5, max_depth=20, max_features=auto, min_samples_leaf=10 \n",
      "[CV]  n_estimators=700, min_samples_split=5, max_depth=20, max_features=auto, min_samples_leaf=10, score=-2.06538028162, total=   1.5s\n",
      "[CV] n_estimators=700, min_samples_split=5, max_depth=20, max_features=auto, min_samples_leaf=10 \n",
      "[CV]  n_estimators=700, min_samples_split=5, max_depth=20, max_features=auto, min_samples_leaf=10, score=-20.0705843142, total=   1.6s\n",
      "[CV] n_estimators=700, min_samples_split=5, max_depth=20, max_features=auto, min_samples_leaf=10 \n",
      "[CV]  n_estimators=700, min_samples_split=5, max_depth=20, max_features=auto, min_samples_leaf=10, score=-10.6847930696, total=   1.8s\n",
      "[CV] n_estimators=700, min_samples_split=5, max_depth=20, max_features=auto, min_samples_leaf=10 \n",
      "[CV]  n_estimators=700, min_samples_split=5, max_depth=20, max_features=auto, min_samples_leaf=10, score=-6.9571620078, total=   1.6s\n",
      "[CV] n_estimators=700, min_samples_split=5, max_depth=20, max_features=auto, min_samples_leaf=10 \n",
      "[CV]  n_estimators=700, min_samples_split=5, max_depth=20, max_features=auto, min_samples_leaf=10, score=-1.0895286627, total=   1.6s\n",
      "[CV] n_estimators=1000, min_samples_split=2, max_depth=25, max_features=sqrt, min_samples_leaf=1 \n",
      "[CV]  n_estimators=1000, min_samples_split=2, max_depth=25, max_features=sqrt, min_samples_leaf=1, score=-0.770540729757, total=   2.4s\n",
      "[CV] n_estimators=1000, min_samples_split=2, max_depth=25, max_features=sqrt, min_samples_leaf=1 \n",
      "[CV]  n_estimators=1000, min_samples_split=2, max_depth=25, max_features=sqrt, min_samples_leaf=1, score=-13.8588447176, total=   2.3s\n",
      "[CV] n_estimators=1000, min_samples_split=2, max_depth=25, max_features=sqrt, min_samples_leaf=1 \n",
      "[CV]  n_estimators=1000, min_samples_split=2, max_depth=25, max_features=sqrt, min_samples_leaf=1, score=-1.49654171965, total=   2.3s\n",
      "[CV] n_estimators=1000, min_samples_split=2, max_depth=25, max_features=sqrt, min_samples_leaf=1 \n",
      "[CV]  n_estimators=1000, min_samples_split=2, max_depth=25, max_features=sqrt, min_samples_leaf=1, score=-3.73159971389, total=   2.4s\n",
      "[CV] n_estimators=1000, min_samples_split=2, max_depth=25, max_features=sqrt, min_samples_leaf=1 \n",
      "[CV]  n_estimators=1000, min_samples_split=2, max_depth=25, max_features=sqrt, min_samples_leaf=1, score=-0.506356947295, total=   2.3s\n",
      "[CV] n_estimators=1100, min_samples_split=15, max_depth=5, max_features=sqrt, min_samples_leaf=10 \n",
      "[CV]  n_estimators=1100, min_samples_split=15, max_depth=5, max_features=sqrt, min_samples_leaf=10, score=-4.74624778856, total=   2.4s\n",
      "[CV] n_estimators=1100, min_samples_split=15, max_depth=5, max_features=sqrt, min_samples_leaf=10 \n",
      "[CV]  n_estimators=1100, min_samples_split=15, max_depth=5, max_features=sqrt, min_samples_leaf=10, score=-24.1376161761, total=   2.4s\n",
      "[CV] n_estimators=1100, min_samples_split=15, max_depth=5, max_features=sqrt, min_samples_leaf=10 \n",
      "[CV]  n_estimators=1100, min_samples_split=15, max_depth=5, max_features=sqrt, min_samples_leaf=10, score=-7.29384988847, total=   2.4s\n",
      "[CV] n_estimators=1100, min_samples_split=15, max_depth=5, max_features=sqrt, min_samples_leaf=10 \n",
      "[CV]  n_estimators=1100, min_samples_split=15, max_depth=5, max_features=sqrt, min_samples_leaf=10, score=-8.57544476864, total=   2.4s\n",
      "[CV] n_estimators=1100, min_samples_split=15, max_depth=5, max_features=sqrt, min_samples_leaf=10 \n",
      "[CV]  n_estimators=1100, min_samples_split=15, max_depth=5, max_features=sqrt, min_samples_leaf=10, score=-1.61856967154, total=   2.4s\n",
      "[CV] n_estimators=300, min_samples_split=15, max_depth=15, max_features=sqrt, min_samples_leaf=1 \n",
      "[CV]  n_estimators=300, min_samples_split=15, max_depth=15, max_features=sqrt, min_samples_leaf=1, score=-2.40468704379, total=   2.9s\n",
      "[CV] n_estimators=300, min_samples_split=15, max_depth=15, max_features=sqrt, min_samples_leaf=1 \n",
      "[CV]  n_estimators=300, min_samples_split=15, max_depth=15, max_features=sqrt, min_samples_leaf=1, score=-16.7277435213, total=   0.7s\n",
      "[CV] n_estimators=300, min_samples_split=15, max_depth=15, max_features=sqrt, min_samples_leaf=1 \n",
      "[CV]  n_estimators=300, min_samples_split=15, max_depth=15, max_features=sqrt, min_samples_leaf=1, score=-3.28411978663, total=   0.6s\n",
      "[CV] n_estimators=300, min_samples_split=15, max_depth=15, max_features=sqrt, min_samples_leaf=1 \n"
     ]
    },
    {
     "name": "stdout",
     "output_type": "stream",
     "text": [
      "[CV]  n_estimators=300, min_samples_split=15, max_depth=15, max_features=sqrt, min_samples_leaf=1, score=-4.28388504202, total=   0.7s\n",
      "[CV] n_estimators=300, min_samples_split=15, max_depth=15, max_features=sqrt, min_samples_leaf=1 \n",
      "[CV]  n_estimators=300, min_samples_split=15, max_depth=15, max_features=sqrt, min_samples_leaf=1, score=-0.969203793528, total=   0.7s\n",
      "[CV] n_estimators=700, min_samples_split=10, max_depth=5, max_features=sqrt, min_samples_leaf=2 \n",
      "[CV]  n_estimators=700, min_samples_split=10, max_depth=5, max_features=sqrt, min_samples_leaf=2, score=-1.9595099259, total=   3.8s\n",
      "[CV] n_estimators=700, min_samples_split=10, max_depth=5, max_features=sqrt, min_samples_leaf=2 \n",
      "[CV]  n_estimators=700, min_samples_split=10, max_depth=5, max_features=sqrt, min_samples_leaf=2, score=-16.6954276661, total=   1.6s\n",
      "[CV] n_estimators=700, min_samples_split=10, max_depth=5, max_features=sqrt, min_samples_leaf=2 \n",
      "[CV]  n_estimators=700, min_samples_split=10, max_depth=5, max_features=sqrt, min_samples_leaf=2, score=-3.08172774446, total=   1.6s\n",
      "[CV] n_estimators=700, min_samples_split=10, max_depth=5, max_features=sqrt, min_samples_leaf=2 \n",
      "[CV]  n_estimators=700, min_samples_split=10, max_depth=5, max_features=sqrt, min_samples_leaf=2, score=-4.4795639106, total=   1.6s\n",
      "[CV] n_estimators=700, min_samples_split=10, max_depth=5, max_features=sqrt, min_samples_leaf=2 \n",
      "[CV]  n_estimators=700, min_samples_split=10, max_depth=5, max_features=sqrt, min_samples_leaf=2, score=-1.01897502582, total=   3.5s\n",
      "[CV] n_estimators=700, min_samples_split=15, max_depth=20, max_features=auto, min_samples_leaf=1 \n",
      "[CV]  n_estimators=700, min_samples_split=15, max_depth=20, max_features=auto, min_samples_leaf=1, score=-0.715352125213, total=   1.8s\n",
      "[CV] n_estimators=700, min_samples_split=15, max_depth=20, max_features=auto, min_samples_leaf=1 \n",
      "[CV]  n_estimators=700, min_samples_split=15, max_depth=20, max_features=auto, min_samples_leaf=1, score=-8.16849042884, total=   2.9s\n",
      "[CV] n_estimators=700, min_samples_split=15, max_depth=20, max_features=auto, min_samples_leaf=1 \n",
      "[CV]  n_estimators=700, min_samples_split=15, max_depth=20, max_features=auto, min_samples_leaf=1, score=-7.96088307262, total=   2.0s\n",
      "[CV] n_estimators=700, min_samples_split=15, max_depth=20, max_features=auto, min_samples_leaf=1 \n",
      "[CV]  n_estimators=700, min_samples_split=15, max_depth=20, max_features=auto, min_samples_leaf=1, score=-4.17899837577, total=   1.5s\n",
      "[CV] n_estimators=700, min_samples_split=15, max_depth=20, max_features=auto, min_samples_leaf=1 \n",
      "[CV]  n_estimators=700, min_samples_split=15, max_depth=20, max_features=auto, min_samples_leaf=1, score=-0.735118221192, total=   3.1s\n"
     ]
    },
    {
     "name": "stderr",
     "output_type": "stream",
     "text": [
      "[Parallel(n_jobs=1)]: Done  50 out of  50 | elapsed:  1.7min finished\n"
     ]
    },
    {
     "data": {
      "text/plain": [
       "RandomizedSearchCV(cv=5, error_score='raise-deprecating',\n",
       "          estimator=RandomForestRegressor(bootstrap=True, criterion='mse', max_depth=None,\n",
       "           max_features='auto', max_leaf_nodes=None,\n",
       "           min_impurity_decrease=0.0, min_impurity_split=None,\n",
       "           min_samples_leaf=1, min_samples_split=2,\n",
       "           min_weight_fraction_leaf=0.0, n_estimators='warn', n_jobs=None,\n",
       "           oob_score=False, random_state=None, verbose=0, warm_start=False),\n",
       "          fit_params=None, iid='warn', n_iter=10, n_jobs=1,\n",
       "          param_distributions={'n_estimators': [100, 200, 300, 400, 500, 600, 700, 800, 900, 1000, 1100, 1200], 'max_features': ['auto', 'sqrt'], 'min_samples_split': [2, 5, 10, 15, 100], 'max_depth': [5, 10, 15, 20, 25, 30], 'min_samples_leaf': [1, 2, 5, 10]},\n",
       "          pre_dispatch='2*n_jobs', random_state=42, refit=True,\n",
       "          return_train_score='warn', scoring='neg_mean_squared_error',\n",
       "          verbose=3)"
      ]
     },
     "execution_count": 43,
     "metadata": {},
     "output_type": "execute_result"
    }
   ],
   "source": [
    "random_search.fit(X_train,y_train)"
   ]
  },
  {
   "cell_type": "code",
   "execution_count": 45,
   "metadata": {},
   "outputs": [
    {
     "data": {
      "text/plain": [
       "{'max_depth': 25,\n",
       " 'max_features': 'sqrt',\n",
       " 'min_samples_leaf': 1,\n",
       " 'min_samples_split': 2,\n",
       " 'n_estimators': 1000}"
      ]
     },
     "execution_count": 45,
     "metadata": {},
     "output_type": "execute_result"
    }
   ],
   "source": [
    "random_search.best_params_"
   ]
  },
  {
   "cell_type": "code",
   "execution_count": 46,
   "metadata": {},
   "outputs": [
    {
     "data": {
      "text/plain": [
       "-4.072776765636413"
      ]
     },
     "execution_count": 46,
     "metadata": {},
     "output_type": "execute_result"
    }
   ],
   "source": [
    "random_search.best_score_"
   ]
  },
  {
   "cell_type": "code",
   "execution_count": 47,
   "metadata": {},
   "outputs": [],
   "source": [
    "#prediction\n",
    "y_pred = random_search.predict(X_test)"
   ]
  },
  {
   "cell_type": "code",
   "execution_count": 48,
   "metadata": {},
   "outputs": [
    {
     "data": {
      "text/plain": [
       "array([ 7.12789,  0.53262,  5.07561,  9.3195 , 16.77631,  5.06062,\n",
       "        3.39545,  0.76926,  4.60567,  4.5187 ,  3.17282,  0.87016,\n",
       "        5.00366,  7.76641,  7.9713 , 10.21166,  7.21298,  4.05105,\n",
       "        0.475  ,  1.48335,  3.97883,  4.61887,  5.53357,  9.49204,\n",
       "        0.24908,  0.78687,  0.50013,  0.63701,  0.4978 ,  4.81194,\n",
       "        5.32345,  5.83565,  0.49543,  8.7741 ,  3.50462,  1.17995,\n",
       "        5.59702,  7.50824,  0.2448 ,  9.1342 ,  9.35071, 19.47091,\n",
       "        4.96919,  4.06585,  5.4278 , 11.85502,  0.32745,  0.90036,\n",
       "        4.9614 ,  8.41343,  7.37925,  3.55351,  4.71695, 20.76366,\n",
       "        1.10512,  1.04458,  0.49887,  2.74095,  3.6613 ,  1.14833,\n",
       "        4.03104,  8.76244,  3.25824, 21.02843,  4.18757,  5.57208,\n",
       "       10.32378,  4.84572,  0.53298,  2.95075,  3.37937,  3.0347 ,\n",
       "        0.64518,  5.47125,  0.80725,  2.98976,  0.50531,  9.10001,\n",
       "        1.17827,  2.70369,  0.49687,  9.97822,  7.38629,  5.4072 ,\n",
       "        5.11525,  0.93085,  6.40352,  6.0126 ,  0.46703,  5.03283,\n",
       "        0.61767])"
      ]
     },
     "execution_count": 48,
     "metadata": {},
     "output_type": "execute_result"
    }
   ],
   "source": [
    "y_pred"
   ]
  },
  {
   "cell_type": "code",
   "execution_count": null,
   "metadata": {},
   "outputs": [],
   "source": []
  },
  {
   "cell_type": "code",
   "execution_count": 49,
   "metadata": {},
   "outputs": [
    {
     "data": {
      "text/plain": [
       "<matplotlib.axes._subplots.AxesSubplot at 0x256a6388>"
      ]
     },
     "execution_count": 49,
     "metadata": {},
     "output_type": "execute_result"
    },
    {
     "data": {
      "image/png": "[encoded data removed]",
      "text/plain": [
       "<Figure size 432x288 with 1 Axes>"
      ]
     },
     "metadata": {
      "needs_background": "light"
     },
     "output_type": "display_data"
    }
   ],
   "source": [
    "sns.distplot(y_test-y_pred)"
   ]
  },
  {
   "cell_type": "code",
   "execution_count": 50,
   "metadata": {},
   "outputs": [
    {
     "data": {
      "text/plain": [
       "<matplotlib.collections.PathCollection at 0x26b17048>"
      ]
     },
     "execution_count": 50,
     "metadata": {},
     "output_type": "execute_result"
    },
    {
     "data": {
      "image/png": "[encoded data removed]",
      "text/plain": [
       "<Figure size 432x288 with 1 Axes>"
      ]
     },
     "metadata": {
      "needs_background": "light"
     },
     "output_type": "display_data"
    }
   ],
   "source": [
    "plt.scatter(y_test,y_pred)"
   ]
  },
  {
   "cell_type": "code",
   "execution_count": null,
   "metadata": {},
   "outputs": [],
   "source": []
  },
  {
   "cell_type": "code",
   "execution_count": 51,
   "metadata": {},
   "outputs": [
    {
     "name": "stdout",
     "output_type": "stream",
     "text": [
      "MAE:0.890817472527\n",
      "MSE:4.01616325285\n",
      "RMSE:2.0040367394\n"
     ]
    }
   ],
   "source": [
    "##Evaluation of model using various metrics\n",
    "\n",
    "from sklearn import  metrics\n",
    "\n",
    "print('MAE:{}').format(metrics.mean_absolute_error(y_test,y_pred))\n",
    "print('MSE:{}').format(metrics.mean_squared_error(y_test,y_pred))\n",
    "print('RMSE:{}').format(np.sqrt(metrics.mean_squared_error(y_test,y_pred)))"
   ]
  },
  {
   "cell_type": "code",
   "execution_count": null,
   "metadata": {},
   "outputs": [],
   "source": []
  },
  {
   "cell_type": "code",
   "execution_count": 52,
   "metadata": {},
   "outputs": [],
   "source": [
    "import pickle"
   ]
  },
  {
   "cell_type": "code",
   "execution_count": 53,
   "metadata": {},
   "outputs": [],
   "source": [
    "\n",
    "# open a file, where you ant to store the data\n",
    "file = open('rf_regression_model.pkl', 'wb')\n",
    "\n",
    "# dump information to that file\n",
    "pickle.dump(random_search, file)"
   ]
  },
  {
   "cell_type": "code",
   "execution_count": null,
   "metadata": {},
   "outputs": [],
   "source": []
  },
  {
   "cell_type": "code",
   "execution_count": null,
   "metadata": {},
   "outputs": [],
   "source": [
    "\n",
    "\n"
   ]
  }
 ],
 "metadata": {
  "kernelspec": {
   "display_name": "Python 2",
   "language": "python",
   "name": "python2"
  },
  "language_info": {
   "codemirror_mode": {
    "name": "ipython",
    "version": 2
   },
   "file_extension": ".py",
   "mimetype": "text/x-python",
   "name": "python",
   "nbconvert_exporter": "python",
   "pygments_lexer": "ipython2",
   "version": "2.7.18rc1"
  }
 },
 "nbformat": 4,
 "nbformat_minor": 2
}
